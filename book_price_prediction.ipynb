{
  "nbformat": 4,
  "nbformat_minor": 0,
  "metadata": {
    "colab": {
      "name": "project_book_price_prediction-localfile",
      "provenance": [],
      "collapsed_sections": []
    },
    "kernelspec": {
      "name": "python3",
      "display_name": "Python 3"
    },
    "accelerator": "GPU"
  },
  "cells": [
    {
      "cell_type": "code",
      "metadata": {
        "id": "Zcu1NxJfl-gq",
        "colab_type": "code",
        "colab": {}
      },
      "source": [
        "# Importing libraries\n",
        "import pandas as pd\n",
        "import numpy as np\n",
        "import re"
      ],
      "execution_count": 0,
      "outputs": []
    },
    {
      "cell_type": "code",
      "metadata": {
        "id": "wRRhsXGmijWz",
        "colab_type": "code",
        "colab": {}
      },
      "source": [
        "#Importing the data\n",
        "\n",
        "import io\n",
        "train = pd.read_excel('Book_Train.xlsx')\n",
        "test = pd.read_excel('Book_Test.xlsx')"
      ],
      "execution_count": 0,
      "outputs": []
    },
    {
      "cell_type": "code",
      "metadata": {
        "id": "AGgLqn7UjwAa",
        "colab_type": "code",
        "outputId": "2da08dae-a4f3-4495-8c59-69ff9cfcd14f",
        "colab": {
          "base_uri": "https://localhost:8080/",
          "height": 51
        }
      },
      "source": [
        "print(train.shape)\n",
        "print(test.shape)"
      ],
      "execution_count": 0,
      "outputs": [
        {
          "output_type": "stream",
          "text": [
            "(6237, 9)\n",
            "(1560, 8)\n"
          ],
          "name": "stdout"
        }
      ]
    },
    {
      "cell_type": "code",
      "metadata": {
        "id": "L1E3gd-hmc7-",
        "colab_type": "code",
        "outputId": "09e1d6b6-aac1-41ed-96ad-ce4c83ffed71",
        "colab": {
          "base_uri": "https://localhost:8080/",
          "height": 193
        }
      },
      "source": [
        "train.head(3)"
      ],
      "execution_count": 0,
      "outputs": [
        {
          "output_type": "execute_result",
          "data": {
            "text/html": [
              "<div>\n",
              "<style scoped>\n",
              "    .dataframe tbody tr th:only-of-type {\n",
              "        vertical-align: middle;\n",
              "    }\n",
              "\n",
              "    .dataframe tbody tr th {\n",
              "        vertical-align: top;\n",
              "    }\n",
              "\n",
              "    .dataframe thead th {\n",
              "        text-align: right;\n",
              "    }\n",
              "</style>\n",
              "<table border=\"1\" class=\"dataframe\">\n",
              "  <thead>\n",
              "    <tr style=\"text-align: right;\">\n",
              "      <th></th>\n",
              "      <th>Title</th>\n",
              "      <th>Author</th>\n",
              "      <th>Edition</th>\n",
              "      <th>Ratings</th>\n",
              "      <th>Reviews</th>\n",
              "      <th>Synopsis</th>\n",
              "      <th>Genre</th>\n",
              "      <th>BookCategory</th>\n",
              "      <th>Price</th>\n",
              "    </tr>\n",
              "  </thead>\n",
              "  <tbody>\n",
              "    <tr>\n",
              "      <th>0</th>\n",
              "      <td>The Prisoner's Gold (The Hunters 3)</td>\n",
              "      <td>Chris Kuzneski</td>\n",
              "      <td>Paperback,– 10 Mar 2016</td>\n",
              "      <td>4.0 out of 5 stars</td>\n",
              "      <td>8 customer reviews</td>\n",
              "      <td>THE HUNTERS return in their third brilliant no...</td>\n",
              "      <td>Action &amp; Adventure (Books)</td>\n",
              "      <td>Action &amp; Adventure</td>\n",
              "      <td>220.00</td>\n",
              "    </tr>\n",
              "    <tr>\n",
              "      <th>1</th>\n",
              "      <td>Guru Dutt: A Tragedy in Three Acts</td>\n",
              "      <td>Arun Khopkar</td>\n",
              "      <td>Paperback,– 7 Nov 2012</td>\n",
              "      <td>3.9 out of 5 stars</td>\n",
              "      <td>14 customer reviews</td>\n",
              "      <td>A layered portrait of a troubled genius for wh...</td>\n",
              "      <td>Cinema &amp; Broadcast (Books)</td>\n",
              "      <td>Biographies, Diaries &amp; True Accounts</td>\n",
              "      <td>202.93</td>\n",
              "    </tr>\n",
              "    <tr>\n",
              "      <th>2</th>\n",
              "      <td>Leviathan (Penguin Classics)</td>\n",
              "      <td>Thomas Hobbes</td>\n",
              "      <td>Paperback,– 25 Feb 1982</td>\n",
              "      <td>4.8 out of 5 stars</td>\n",
              "      <td>6 customer reviews</td>\n",
              "      <td>\"During the time men live without a common Pow...</td>\n",
              "      <td>International Relations</td>\n",
              "      <td>Humour</td>\n",
              "      <td>299.00</td>\n",
              "    </tr>\n",
              "  </tbody>\n",
              "</table>\n",
              "</div>"
            ],
            "text/plain": [
              "                                 Title  ...   Price\n",
              "0  The Prisoner's Gold (The Hunters 3)  ...  220.00\n",
              "1   Guru Dutt: A Tragedy in Three Acts  ...  202.93\n",
              "2         Leviathan (Penguin Classics)  ...  299.00\n",
              "\n",
              "[3 rows x 9 columns]"
            ]
          },
          "metadata": {
            "tags": []
          },
          "execution_count": 247
        }
      ]
    },
    {
      "cell_type": "code",
      "metadata": {
        "id": "q-kPw9pCmkSI",
        "colab_type": "code",
        "outputId": "75c0e3a6-4c7e-4686-f168-7e1355e71214",
        "colab": {
          "base_uri": "https://localhost:8080/",
          "height": 193
        }
      },
      "source": [
        "test.head(3)"
      ],
      "execution_count": 0,
      "outputs": [
        {
          "output_type": "execute_result",
          "data": {
            "text/html": [
              "<div>\n",
              "<style scoped>\n",
              "    .dataframe tbody tr th:only-of-type {\n",
              "        vertical-align: middle;\n",
              "    }\n",
              "\n",
              "    .dataframe tbody tr th {\n",
              "        vertical-align: top;\n",
              "    }\n",
              "\n",
              "    .dataframe thead th {\n",
              "        text-align: right;\n",
              "    }\n",
              "</style>\n",
              "<table border=\"1\" class=\"dataframe\">\n",
              "  <thead>\n",
              "    <tr style=\"text-align: right;\">\n",
              "      <th></th>\n",
              "      <th>Title</th>\n",
              "      <th>Author</th>\n",
              "      <th>Edition</th>\n",
              "      <th>Ratings</th>\n",
              "      <th>Reviews</th>\n",
              "      <th>Synopsis</th>\n",
              "      <th>Genre</th>\n",
              "      <th>BookCategory</th>\n",
              "    </tr>\n",
              "  </thead>\n",
              "  <tbody>\n",
              "    <tr>\n",
              "      <th>0</th>\n",
              "      <td>The Complete Sherlock Holmes: 2 Boxes sets</td>\n",
              "      <td>Sir Arthur Conan Doyle</td>\n",
              "      <td>Mass Market Paperback,– 1 Oct 1986</td>\n",
              "      <td>4.4 out of 5 stars</td>\n",
              "      <td>960 customer reviews</td>\n",
              "      <td>A collection of entire body of work of the She...</td>\n",
              "      <td>Short Stories (Books)</td>\n",
              "      <td>Crime, Thriller &amp; Mystery</td>\n",
              "    </tr>\n",
              "    <tr>\n",
              "      <th>1</th>\n",
              "      <td>Learn Docker - Fundamentals of Docker 18.x: Ev...</td>\n",
              "      <td>Gabriel N. Schenker</td>\n",
              "      <td>Paperback,– Import, 26 Apr 2018</td>\n",
              "      <td>5.0 out of 5 stars</td>\n",
              "      <td>1 customer review</td>\n",
              "      <td>Enhance your software deployment workflow usin...</td>\n",
              "      <td>Operating Systems Textbooks</td>\n",
              "      <td>Computing, Internet &amp; Digital Media</td>\n",
              "    </tr>\n",
              "    <tr>\n",
              "      <th>2</th>\n",
              "      <td>Big Girl</td>\n",
              "      <td>Danielle Steel</td>\n",
              "      <td>Paperback,– 17 Mar 2011</td>\n",
              "      <td>5.0 out of 5 stars</td>\n",
              "      <td>4 customer reviews</td>\n",
              "      <td>'Watch out, world. Here I come!'\\nFor Victoria...</td>\n",
              "      <td>Romance (Books)</td>\n",
              "      <td>Romance</td>\n",
              "    </tr>\n",
              "  </tbody>\n",
              "</table>\n",
              "</div>"
            ],
            "text/plain": [
              "                                               Title  ...                         BookCategory\n",
              "0         The Complete Sherlock Holmes: 2 Boxes sets  ...            Crime, Thriller & Mystery\n",
              "1  Learn Docker - Fundamentals of Docker 18.x: Ev...  ...  Computing, Internet & Digital Media\n",
              "2                                           Big Girl  ...                              Romance\n",
              "\n",
              "[3 rows x 8 columns]"
            ]
          },
          "metadata": {
            "tags": []
          },
          "execution_count": 248
        }
      ]
    },
    {
      "cell_type": "code",
      "metadata": {
        "id": "vpMh0y0lm7jM",
        "colab_type": "code",
        "outputId": "acda7314-32bf-4a57-de33-b6b665bab49a",
        "colab": {
          "base_uri": "https://localhost:8080/",
          "height": 187
        }
      },
      "source": [
        "# checking for missing or null values\n",
        "train.isnull().sum()"
      ],
      "execution_count": 0,
      "outputs": [
        {
          "output_type": "execute_result",
          "data": {
            "text/plain": [
              "Title           0\n",
              "Author          0\n",
              "Edition         0\n",
              "Ratings         0\n",
              "Reviews         0\n",
              "Synopsis        0\n",
              "Genre           0\n",
              "BookCategory    0\n",
              "Price           0\n",
              "dtype: int64"
            ]
          },
          "metadata": {
            "tags": []
          },
          "execution_count": 249
        }
      ]
    },
    {
      "cell_type": "code",
      "metadata": {
        "id": "aNJt4Eh3or3K",
        "colab_type": "code",
        "colab": {}
      },
      "source": [
        "#Cleaning ReviewS & Ratings to represent float values\n",
        "train['Reviews']=train['Reviews'].str.extract('(\\d+)').astype(float)\n",
        "test['Reviews']=test['Reviews'].str.extract('(\\d+)').astype(float)"
      ],
      "execution_count": 0,
      "outputs": []
    },
    {
      "cell_type": "code",
      "metadata": {
        "id": "BmiomeIuo_Vs",
        "colab_type": "code",
        "colab": {}
      },
      "source": [
        "train['Ratings'] = train['Ratings'].map(lambda x:x.split(' ')[0])\n",
        "train['Ratings'] = train['Ratings'].astype(float)"
      ],
      "execution_count": 0,
      "outputs": []
    },
    {
      "cell_type": "code",
      "metadata": {
        "id": "3vy3GLCLpHmI",
        "colab_type": "code",
        "colab": {}
      },
      "source": [
        "test['Ratings'] = test['Ratings'].map(lambda x:x.split(' ')[0])\n",
        "test['Ratings'] = test['Ratings'].astype(float)"
      ],
      "execution_count": 0,
      "outputs": []
    },
    {
      "cell_type": "code",
      "metadata": {
        "id": "ZuSM_8UJqOSI",
        "colab_type": "code",
        "colab": {}
      },
      "source": [
        "#We will clean the column Edition and will create new features from it \n",
        "\n",
        "train[\"Edition\"],train['Edition_Date'] =train['Edition'].str.split(',–').str\n",
        "test[\"Edition\"],test['Edition_Date'] =test['Edition'].str.split(',–').str"
      ],
      "execution_count": 0,
      "outputs": []
    },
    {
      "cell_type": "code",
      "metadata": {
        "id": "uyxapN6jB3h-",
        "colab_type": "code",
        "outputId": "a7046c53-dac8-4c6e-b75c-c681702d3aeb",
        "colab": {
          "base_uri": "https://localhost:8080/",
          "height": 299
        }
      },
      "source": [
        "sns.distplot(train['Reviews'])"
      ],
      "execution_count": 0,
      "outputs": [
        {
          "output_type": "execute_result",
          "data": {
            "text/plain": [
              "<matplotlib.axes._subplots.AxesSubplot at 0x7f5f33989dd8>"
            ]
          },
          "metadata": {
            "tags": []
          },
          "execution_count": 254
        },
        {
          "output_type": "display_data",
          "data": {
            "image/png": "[encoded data removed]",
            "text/plain": [
              "<Figure size 432x288 with 1 Axes>"
            ]
          },
          "metadata": {
            "tags": []
          }
        }
      ]
    },
    {
      "cell_type": "code",
      "metadata": {
        "id": "_1DxD5IUq4pK",
        "colab_type": "code",
        "outputId": "c0377a7f-c881-4c8f-abad-61366f16df87",
        "colab": {
          "base_uri": "https://localhost:8080/",
          "height": 289
        }
      },
      "source": [
        "train.head()"
      ],
      "execution_count": 0,
      "outputs": [
        {
          "output_type": "execute_result",
          "data": {
            "text/html": [
              "<div>\n",
              "<style scoped>\n",
              "    .dataframe tbody tr th:only-of-type {\n",
              "        vertical-align: middle;\n",
              "    }\n",
              "\n",
              "    .dataframe tbody tr th {\n",
              "        vertical-align: top;\n",
              "    }\n",
              "\n",
              "    .dataframe thead th {\n",
              "        text-align: right;\n",
              "    }\n",
              "</style>\n",
              "<table border=\"1\" class=\"dataframe\">\n",
              "  <thead>\n",
              "    <tr style=\"text-align: right;\">\n",
              "      <th></th>\n",
              "      <th>Title</th>\n",
              "      <th>Author</th>\n",
              "      <th>Edition</th>\n",
              "      <th>Ratings</th>\n",
              "      <th>Reviews</th>\n",
              "      <th>Synopsis</th>\n",
              "      <th>Genre</th>\n",
              "      <th>BookCategory</th>\n",
              "      <th>Price</th>\n",
              "      <th>Edition_Date</th>\n",
              "    </tr>\n",
              "  </thead>\n",
              "  <tbody>\n",
              "    <tr>\n",
              "      <th>0</th>\n",
              "      <td>The Prisoner's Gold (The Hunters 3)</td>\n",
              "      <td>Chris Kuzneski</td>\n",
              "      <td>Paperback</td>\n",
              "      <td>4.0</td>\n",
              "      <td>8.0</td>\n",
              "      <td>THE HUNTERS return in their third brilliant no...</td>\n",
              "      <td>Action &amp; Adventure (Books)</td>\n",
              "      <td>Action &amp; Adventure</td>\n",
              "      <td>220.00</td>\n",
              "      <td>10 Mar 2016</td>\n",
              "    </tr>\n",
              "    <tr>\n",
              "      <th>1</th>\n",
              "      <td>Guru Dutt: A Tragedy in Three Acts</td>\n",
              "      <td>Arun Khopkar</td>\n",
              "      <td>Paperback</td>\n",
              "      <td>3.9</td>\n",
              "      <td>14.0</td>\n",
              "      <td>A layered portrait of a troubled genius for wh...</td>\n",
              "      <td>Cinema &amp; Broadcast (Books)</td>\n",
              "      <td>Biographies, Diaries &amp; True Accounts</td>\n",
              "      <td>202.93</td>\n",
              "      <td>7 Nov 2012</td>\n",
              "    </tr>\n",
              "    <tr>\n",
              "      <th>2</th>\n",
              "      <td>Leviathan (Penguin Classics)</td>\n",
              "      <td>Thomas Hobbes</td>\n",
              "      <td>Paperback</td>\n",
              "      <td>4.8</td>\n",
              "      <td>6.0</td>\n",
              "      <td>\"During the time men live without a common Pow...</td>\n",
              "      <td>International Relations</td>\n",
              "      <td>Humour</td>\n",
              "      <td>299.00</td>\n",
              "      <td>25 Feb 1982</td>\n",
              "    </tr>\n",
              "    <tr>\n",
              "      <th>3</th>\n",
              "      <td>A Pocket Full of Rye (Miss Marple)</td>\n",
              "      <td>Agatha Christie</td>\n",
              "      <td>Paperback</td>\n",
              "      <td>4.1</td>\n",
              "      <td>13.0</td>\n",
              "      <td>A handful of grain is found in the pocket of a...</td>\n",
              "      <td>Contemporary Fiction (Books)</td>\n",
              "      <td>Crime, Thriller &amp; Mystery</td>\n",
              "      <td>180.00</td>\n",
              "      <td>5 Oct 2017</td>\n",
              "    </tr>\n",
              "    <tr>\n",
              "      <th>4</th>\n",
              "      <td>LIFE 70 Years of Extraordinary Photography</td>\n",
              "      <td>Editors of Life</td>\n",
              "      <td>Hardcover</td>\n",
              "      <td>5.0</td>\n",
              "      <td>1.0</td>\n",
              "      <td>For seven decades, \"Life\" has been thrilling t...</td>\n",
              "      <td>Photography Textbooks</td>\n",
              "      <td>Arts, Film &amp; Photography</td>\n",
              "      <td>965.62</td>\n",
              "      <td>10 Oct 2006</td>\n",
              "    </tr>\n",
              "  </tbody>\n",
              "</table>\n",
              "</div>"
            ],
            "text/plain": [
              "                                        Title  ...  Edition_Date\n",
              "0         The Prisoner's Gold (The Hunters 3)  ...   10 Mar 2016\n",
              "1          Guru Dutt: A Tragedy in Three Acts  ...    7 Nov 2012\n",
              "2                Leviathan (Penguin Classics)  ...   25 Feb 1982\n",
              "3          A Pocket Full of Rye (Miss Marple)  ...    5 Oct 2017\n",
              "4  LIFE 70 Years of Extraordinary Photography  ...   10 Oct 2006\n",
              "\n",
              "[5 rows x 10 columns]"
            ]
          },
          "metadata": {
            "tags": []
          },
          "execution_count": 255
        }
      ]
    },
    {
      "cell_type": "code",
      "metadata": {
        "id": "hp0k2BdNsKEV",
        "colab_type": "code",
        "colab": {}
      },
      "source": [
        "train['Released_year'] = train['Edition_Date'].apply(lambda x : x[-4:] if re.match('\\d\\d\\d\\d',x[-4:])\\\n",
        "                                                 else -1).astype('int')\n",
        "train['Book_Age'] =2019- train['Released_year']"
      ],
      "execution_count": 0,
      "outputs": []
    },
    {
      "cell_type": "code",
      "metadata": {
        "id": "cyl0DD4Ssk1_",
        "colab_type": "code",
        "colab": {}
      },
      "source": [
        "test['Released_year'] = test['Edition_Date'].apply(lambda x : x[-4:] if re.match('\\d\\d\\d\\d',x[-4:])\\\n",
        "                                                 else -1).astype('int')\n",
        "test['Book_Age'] =2019- test['Released_year']"
      ],
      "execution_count": 0,
      "outputs": []
    },
    {
      "cell_type": "code",
      "metadata": {
        "id": "I5CpXs6-tSlJ",
        "colab_type": "code",
        "outputId": "4297cb36-98ea-4b15-9b61-e84dcff7a28b",
        "colab": {
          "base_uri": "https://localhost:8080/",
          "height": 119
        }
      },
      "source": [
        "train['Edition'].unique()"
      ],
      "execution_count": 0,
      "outputs": [
        {
          "output_type": "execute_result",
          "data": {
            "text/plain": [
              "array(['Paperback', 'Hardcover', 'Mass Market Paperback', 'Sheet music',\n",
              "       'Flexibound', 'Plastic Comb', 'Loose Leaf', 'Tankobon Softcover',\n",
              "       'Perfect Paperback', 'Board book', 'Cards', 'Spiral-bound',\n",
              "       '(Kannada),Paperback', 'Product Bundle', 'Library Binding',\n",
              "       '(German),Paperback', 'Leather Bound', '(French),Paperback',\n",
              "       '(Spanish),Paperback'], dtype=object)"
            ]
          },
          "metadata": {
            "tags": []
          },
          "execution_count": 258
        }
      ]
    },
    {
      "cell_type": "code",
      "metadata": {
        "id": "pwlS9MGKuOLn",
        "colab_type": "code",
        "outputId": "690b720c-4491-409d-a400-b56c6232ac0b",
        "colab": {
          "base_uri": "https://localhost:8080/",
          "height": 68
        }
      },
      "source": [
        "test['Edition'].unique()"
      ],
      "execution_count": 0,
      "outputs": [
        {
          "output_type": "execute_result",
          "data": {
            "text/plain": [
              "array(['Mass Market Paperback', 'Paperback', 'Hardcover', 'Cards',\n",
              "       'Sheet music', 'Flexibound', 'Spiral-bound', '(Chinese),Paperback',\n",
              "       'Loose Leaf'], dtype=object)"
            ]
          },
          "metadata": {
            "tags": []
          },
          "execution_count": 259
        }
      ]
    },
    {
      "cell_type": "code",
      "metadata": {
        "id": "Cd2py6Vnsv_N",
        "colab_type": "code",
        "colab": {}
      },
      "source": [
        "# Grouping (Language), Paperback into one\n",
        "train['Edition'] = ['Paperback'  if re.match('(.*),(Paperback)',s) else s for s in train['Edition']]\n",
        "test['Edition'] = ['Paperback'  if re.match('(.*),(Paperback)',s) else s for s in test['Edition']]"
      ],
      "execution_count": 0,
      "outputs": []
    },
    {
      "cell_type": "code",
      "metadata": {
        "id": "R_T7Xz67uJKq",
        "colab_type": "code",
        "outputId": "a6f2ced3-19ca-4c7e-cb02-030cc26cd8bd",
        "colab": {
          "base_uri": "https://localhost:8080/",
          "height": 170
        }
      },
      "source": [
        "test['Edition'].value_counts()"
      ],
      "execution_count": 0,
      "outputs": [
        {
          "output_type": "execute_result",
          "data": {
            "text/plain": [
              "Paperback                1266\n",
              "Hardcover                 233\n",
              "Mass Market Paperback      45\n",
              "Sheet music                 8\n",
              "Flexibound                  4\n",
              "Spiral-bound                2\n",
              "Cards                       1\n",
              "Loose Leaf                  1\n",
              "Name: Edition, dtype: int64"
            ]
          },
          "metadata": {
            "tags": []
          },
          "execution_count": 261
        }
      ]
    },
    {
      "cell_type": "code",
      "metadata": {
        "id": "83YlrcL1umU1",
        "colab_type": "code",
        "colab": {}
      },
      "source": [
        "considerable_editions = ['Paperback', 'Hardcover', 'Mass Market Paperback', 'Sheet music', 'Flexibound'] \n",
        "others = [edition for edition in train['Edition'] if edition not in considerable_editions]\n",
        "train['Edition'] = train['Edition'].replace(others,value='Others')"
      ],
      "execution_count": 0,
      "outputs": []
    },
    {
      "cell_type": "code",
      "metadata": {
        "id": "aiWK8FqOvI5j",
        "colab_type": "code",
        "colab": {}
      },
      "source": [
        "considerable_editions = ['Paperback', 'Hardcover', 'Mass Market Paperback', 'Sheet music', 'Flexibound'] \n",
        "others = [edition for edition in test['Edition'] if edition not in considerable_editions]\n",
        "test['Edition'] = test['Edition'].replace(others,value='Others')"
      ],
      "execution_count": 0,
      "outputs": []
    },
    {
      "cell_type": "code",
      "metadata": {
        "id": "h0Gp7wlnvbm9",
        "colab_type": "code",
        "outputId": "d52c478d-1638-4135-82eb-f93e1d6a4f1a",
        "colab": {
          "base_uri": "https://localhost:8080/",
          "height": 374
        }
      },
      "source": [
        "train.head()"
      ],
      "execution_count": 0,
      "outputs": [
        {
          "output_type": "execute_result",
          "data": {
            "text/html": [
              "<div>\n",
              "<style scoped>\n",
              "    .dataframe tbody tr th:only-of-type {\n",
              "        vertical-align: middle;\n",
              "    }\n",
              "\n",
              "    .dataframe tbody tr th {\n",
              "        vertical-align: top;\n",
              "    }\n",
              "\n",
              "    .dataframe thead th {\n",
              "        text-align: right;\n",
              "    }\n",
              "</style>\n",
              "<table border=\"1\" class=\"dataframe\">\n",
              "  <thead>\n",
              "    <tr style=\"text-align: right;\">\n",
              "      <th></th>\n",
              "      <th>Title</th>\n",
              "      <th>Author</th>\n",
              "      <th>Edition</th>\n",
              "      <th>Ratings</th>\n",
              "      <th>Reviews</th>\n",
              "      <th>Synopsis</th>\n",
              "      <th>Genre</th>\n",
              "      <th>BookCategory</th>\n",
              "      <th>Price</th>\n",
              "      <th>Edition_Date</th>\n",
              "      <th>Released_year</th>\n",
              "      <th>Book_Age</th>\n",
              "    </tr>\n",
              "  </thead>\n",
              "  <tbody>\n",
              "    <tr>\n",
              "      <th>0</th>\n",
              "      <td>The Prisoner's Gold (The Hunters 3)</td>\n",
              "      <td>Chris Kuzneski</td>\n",
              "      <td>Paperback</td>\n",
              "      <td>4.0</td>\n",
              "      <td>8.0</td>\n",
              "      <td>THE HUNTERS return in their third brilliant no...</td>\n",
              "      <td>Action &amp; Adventure (Books)</td>\n",
              "      <td>Action &amp; Adventure</td>\n",
              "      <td>220.00</td>\n",
              "      <td>10 Mar 2016</td>\n",
              "      <td>2016</td>\n",
              "      <td>3</td>\n",
              "    </tr>\n",
              "    <tr>\n",
              "      <th>1</th>\n",
              "      <td>Guru Dutt: A Tragedy in Three Acts</td>\n",
              "      <td>Arun Khopkar</td>\n",
              "      <td>Paperback</td>\n",
              "      <td>3.9</td>\n",
              "      <td>14.0</td>\n",
              "      <td>A layered portrait of a troubled genius for wh...</td>\n",
              "      <td>Cinema &amp; Broadcast (Books)</td>\n",
              "      <td>Biographies, Diaries &amp; True Accounts</td>\n",
              "      <td>202.93</td>\n",
              "      <td>7 Nov 2012</td>\n",
              "      <td>2012</td>\n",
              "      <td>7</td>\n",
              "    </tr>\n",
              "    <tr>\n",
              "      <th>2</th>\n",
              "      <td>Leviathan (Penguin Classics)</td>\n",
              "      <td>Thomas Hobbes</td>\n",
              "      <td>Paperback</td>\n",
              "      <td>4.8</td>\n",
              "      <td>6.0</td>\n",
              "      <td>\"During the time men live without a common Pow...</td>\n",
              "      <td>International Relations</td>\n",
              "      <td>Humour</td>\n",
              "      <td>299.00</td>\n",
              "      <td>25 Feb 1982</td>\n",
              "      <td>1982</td>\n",
              "      <td>37</td>\n",
              "    </tr>\n",
              "    <tr>\n",
              "      <th>3</th>\n",
              "      <td>A Pocket Full of Rye (Miss Marple)</td>\n",
              "      <td>Agatha Christie</td>\n",
              "      <td>Paperback</td>\n",
              "      <td>4.1</td>\n",
              "      <td>13.0</td>\n",
              "      <td>A handful of grain is found in the pocket of a...</td>\n",
              "      <td>Contemporary Fiction (Books)</td>\n",
              "      <td>Crime, Thriller &amp; Mystery</td>\n",
              "      <td>180.00</td>\n",
              "      <td>5 Oct 2017</td>\n",
              "      <td>2017</td>\n",
              "      <td>2</td>\n",
              "    </tr>\n",
              "    <tr>\n",
              "      <th>4</th>\n",
              "      <td>LIFE 70 Years of Extraordinary Photography</td>\n",
              "      <td>Editors of Life</td>\n",
              "      <td>Hardcover</td>\n",
              "      <td>5.0</td>\n",
              "      <td>1.0</td>\n",
              "      <td>For seven decades, \"Life\" has been thrilling t...</td>\n",
              "      <td>Photography Textbooks</td>\n",
              "      <td>Arts, Film &amp; Photography</td>\n",
              "      <td>965.62</td>\n",
              "      <td>10 Oct 2006</td>\n",
              "      <td>2006</td>\n",
              "      <td>13</td>\n",
              "    </tr>\n",
              "  </tbody>\n",
              "</table>\n",
              "</div>"
            ],
            "text/plain": [
              "                                        Title  ... Book_Age\n",
              "0         The Prisoner's Gold (The Hunters 3)  ...        3\n",
              "1          Guru Dutt: A Tragedy in Three Acts  ...        7\n",
              "2                Leviathan (Penguin Classics)  ...       37\n",
              "3          A Pocket Full of Rye (Miss Marple)  ...        2\n",
              "4  LIFE 70 Years of Extraordinary Photography  ...       13\n",
              "\n",
              "[5 rows x 12 columns]"
            ]
          },
          "metadata": {
            "tags": []
          },
          "execution_count": 264
        }
      ]
    },
    {
      "cell_type": "code",
      "metadata": {
        "id": "U7j2OxlWveet",
        "colab_type": "code",
        "outputId": "e25aad20-4cee-49a2-fe71-ebe9fb45ccfc",
        "colab": {
          "base_uri": "https://localhost:8080/",
          "height": 266
        }
      },
      "source": [
        "train.groupby('Edition')['Price'].describe()"
      ],
      "execution_count": 0,
      "outputs": [
        {
          "output_type": "execute_result",
          "data": {
            "text/html": [
              "<div>\n",
              "<style scoped>\n",
              "    .dataframe tbody tr th:only-of-type {\n",
              "        vertical-align: middle;\n",
              "    }\n",
              "\n",
              "    .dataframe tbody tr th {\n",
              "        vertical-align: top;\n",
              "    }\n",
              "\n",
              "    .dataframe thead th {\n",
              "        text-align: right;\n",
              "    }\n",
              "</style>\n",
              "<table border=\"1\" class=\"dataframe\">\n",
              "  <thead>\n",
              "    <tr style=\"text-align: right;\">\n",
              "      <th></th>\n",
              "      <th>count</th>\n",
              "      <th>mean</th>\n",
              "      <th>std</th>\n",
              "      <th>min</th>\n",
              "      <th>25%</th>\n",
              "      <th>50%</th>\n",
              "      <th>75%</th>\n",
              "      <th>max</th>\n",
              "    </tr>\n",
              "    <tr>\n",
              "      <th>Edition</th>\n",
              "      <th></th>\n",
              "      <th></th>\n",
              "      <th></th>\n",
              "      <th></th>\n",
              "      <th></th>\n",
              "      <th></th>\n",
              "      <th></th>\n",
              "      <th></th>\n",
              "    </tr>\n",
              "  </thead>\n",
              "  <tbody>\n",
              "    <tr>\n",
              "      <th>Flexibound</th>\n",
              "      <td>15.0</td>\n",
              "      <td>713.344000</td>\n",
              "      <td>433.772450</td>\n",
              "      <td>194.0</td>\n",
              "      <td>385.955</td>\n",
              "      <td>712.0</td>\n",
              "      <td>954.50</td>\n",
              "      <td>1669.00</td>\n",
              "    </tr>\n",
              "    <tr>\n",
              "      <th>Hardcover</th>\n",
              "      <td>823.0</td>\n",
              "      <td>983.294168</td>\n",
              "      <td>1170.782001</td>\n",
              "      <td>51.0</td>\n",
              "      <td>385.000</td>\n",
              "      <td>569.0</td>\n",
              "      <td>1109.00</td>\n",
              "      <td>13244.67</td>\n",
              "    </tr>\n",
              "    <tr>\n",
              "      <th>Mass Market Paperback</th>\n",
              "      <td>155.0</td>\n",
              "      <td>343.352452</td>\n",
              "      <td>203.491171</td>\n",
              "      <td>37.0</td>\n",
              "      <td>248.000</td>\n",
              "      <td>319.0</td>\n",
              "      <td>399.00</td>\n",
              "      <td>1919.00</td>\n",
              "    </tr>\n",
              "    <tr>\n",
              "      <th>Others</th>\n",
              "      <td>23.0</td>\n",
              "      <td>1341.241739</td>\n",
              "      <td>2825.552496</td>\n",
              "      <td>100.0</td>\n",
              "      <td>425.000</td>\n",
              "      <td>639.0</td>\n",
              "      <td>1155.50</td>\n",
              "      <td>14100.00</td>\n",
              "    </tr>\n",
              "    <tr>\n",
              "      <th>Paperback</th>\n",
              "      <td>5197.0</td>\n",
              "      <td>495.272721</td>\n",
              "      <td>530.826557</td>\n",
              "      <td>25.0</td>\n",
              "      <td>239.000</td>\n",
              "      <td>354.0</td>\n",
              "      <td>550.00</td>\n",
              "      <td>9984.00</td>\n",
              "    </tr>\n",
              "    <tr>\n",
              "      <th>Sheet music</th>\n",
              "      <td>24.0</td>\n",
              "      <td>799.208333</td>\n",
              "      <td>304.515293</td>\n",
              "      <td>472.0</td>\n",
              "      <td>567.000</td>\n",
              "      <td>657.0</td>\n",
              "      <td>1056.75</td>\n",
              "      <td>1431.00</td>\n",
              "    </tr>\n",
              "  </tbody>\n",
              "</table>\n",
              "</div>"
            ],
            "text/plain": [
              "                        count         mean  ...      75%       max\n",
              "Edition                                     ...                   \n",
              "Flexibound               15.0   713.344000  ...   954.50   1669.00\n",
              "Hardcover               823.0   983.294168  ...  1109.00  13244.67\n",
              "Mass Market Paperback   155.0   343.352452  ...   399.00   1919.00\n",
              "Others                   23.0  1341.241739  ...  1155.50  14100.00\n",
              "Paperback              5197.0   495.272721  ...   550.00   9984.00\n",
              "Sheet music              24.0   799.208333  ...  1056.75   1431.00\n",
              "\n",
              "[6 rows x 8 columns]"
            ]
          },
          "metadata": {
            "tags": []
          },
          "execution_count": 265
        }
      ]
    },
    {
      "cell_type": "code",
      "metadata": {
        "id": "1gb7Me3swkzi",
        "colab_type": "code",
        "colab": {}
      },
      "source": [
        "from sklearn.preprocessing import LabelEncoder\n",
        "le=LabelEncoder()"
      ],
      "execution_count": 0,
      "outputs": []
    },
    {
      "cell_type": "code",
      "metadata": {
        "id": "b7xu74aWwsPp",
        "colab_type": "code",
        "colab": {}
      },
      "source": [
        "train['Edition']=le.fit_transform(train['Edition']).astype(float)\n",
        "test['Edition']=le.fit_transform(test['Edition']).astype(float)"
      ],
      "execution_count": 0,
      "outputs": []
    },
    {
      "cell_type": "code",
      "metadata": {
        "id": "mSSxLH1_x954",
        "colab_type": "code",
        "outputId": "8a2124e5-fb34-489d-fa6c-15c6d61d3d4a",
        "colab": {
          "base_uri": "https://localhost:8080/",
          "height": 34
        }
      },
      "source": [
        "train['Edition'].unique()"
      ],
      "execution_count": 0,
      "outputs": [
        {
          "output_type": "execute_result",
          "data": {
            "text/plain": [
              "array([4., 1., 2., 5., 0., 3.])"
            ]
          },
          "metadata": {
            "tags": []
          },
          "execution_count": 268
        }
      ]
    },
    {
      "cell_type": "code",
      "metadata": {
        "id": "LHzNzLSuyOVY",
        "colab_type": "code",
        "outputId": "a62b1864-1883-414f-d3ea-e4f57d8604ca",
        "colab": {
          "base_uri": "https://localhost:8080/",
          "height": 34
        }
      },
      "source": [
        "test['Edition'].unique()"
      ],
      "execution_count": 0,
      "outputs": [
        {
          "output_type": "execute_result",
          "data": {
            "text/plain": [
              "array([2., 4., 1., 3., 5., 0.])"
            ]
          },
          "metadata": {
            "tags": []
          },
          "execution_count": 269
        }
      ]
    },
    {
      "cell_type": "code",
      "metadata": {
        "id": "7NIDexIuzOF8",
        "colab_type": "code",
        "outputId": "fd1ea70e-d7a7-48c1-a52f-dbd3bc928577",
        "colab": {
          "base_uri": "https://localhost:8080/",
          "height": 425
        }
      },
      "source": [
        "print(train['Genre'].value_counts())\n",
        "print(test['Genre'].value_counts())"
      ],
      "execution_count": 0,
      "outputs": [
        {
          "output_type": "stream",
          "text": [
            "Action & Adventure (Books)               947\n",
            "Romance (Books)                          419\n",
            "Biographies & Autobiographies (Books)    373\n",
            "Crime, Thriller & Mystery (Books)        276\n",
            "Contemporary Fiction (Books)             256\n",
            "                                        ... \n",
            "Physician & Patient                        1\n",
            "Sailing (Books)                            1\n",
            "Archery (Books)                            1\n",
            "Sign Language Reference                    1\n",
            "Encyclopedias for Children                 1\n",
            "Name: Genre, Length: 345, dtype: int64\n",
            "Action & Adventure (Books)               236\n",
            "Romance (Books)                           98\n",
            "Biographies & Autobiographies (Books)     90\n",
            "Contemporary Fiction (Books)              69\n",
            "Crime, Thriller & Mystery (Books)         59\n",
            "                                        ... \n",
            "C# Programming                             1\n",
            "Children's Sport (Books)                   1\n",
            "Forensic Medicine                          1\n",
            "International Entrance Exams               1\n",
            "Motorcycle Racing                          1\n",
            "Name: Genre, Length: 225, dtype: int64\n"
          ],
          "name": "stdout"
        }
      ]
    },
    {
      "cell_type": "code",
      "metadata": {
        "id": "Oc3g6S5fzO_I",
        "colab_type": "code",
        "colab": {}
      },
      "source": [
        "train['Genre']=le.fit_transform(train['Genre']).astype(float)\n",
        "test['Genre']=le.fit_transform(test['Genre']).astype(float)"
      ],
      "execution_count": 0,
      "outputs": []
    },
    {
      "cell_type": "code",
      "metadata": {
        "id": "KEEHB97cxgfJ",
        "colab_type": "code",
        "outputId": "871fd662-499d-4973-85d1-ed89b2c2007e",
        "colab": {
          "base_uri": "https://localhost:8080/",
          "height": 425
        }
      },
      "source": [
        "print(train['BookCategory'].value_counts())\n",
        "print(test['BookCategory'].value_counts())"
      ],
      "execution_count": 0,
      "outputs": [
        {
          "output_type": "stream",
          "text": [
            "Action & Adventure                      818\n",
            "Crime, Thriller & Mystery               723\n",
            "Biographies, Diaries & True Accounts    596\n",
            "Language, Linguistics & Writing         594\n",
            "Comics & Mangas                         583\n",
            "Romance                                 560\n",
            "Humour                                  540\n",
            "Arts, Film & Photography                517\n",
            "Computing, Internet & Digital Media     510\n",
            "Sports                                  471\n",
            "Politics                                325\n",
            "Name: BookCategory, dtype: int64\n",
            "Action & Adventure                      218\n",
            "Comics & Mangas                         161\n",
            "Crime, Thriller & Mystery               155\n",
            "Sports                                  143\n",
            "Romance                                 142\n",
            "Language, Linguistics & Writing         139\n",
            "Computing, Internet & Digital Media     138\n",
            "Biographies, Diaries & True Accounts    136\n",
            "Humour                                  130\n",
            "Arts, Film & Photography                121\n",
            "Politics                                 77\n",
            "Name: BookCategory, dtype: int64\n"
          ],
          "name": "stdout"
        }
      ]
    },
    {
      "cell_type": "code",
      "metadata": {
        "id": "Gd9i4uEixpYX",
        "colab_type": "code",
        "colab": {}
      },
      "source": [
        "train['BookCategory']=le.fit_transform(train['BookCategory']).astype(float)\n",
        "test['BookCategory']=le.fit_transform(test['BookCategory']).astype(float)"
      ],
      "execution_count": 0,
      "outputs": []
    },
    {
      "cell_type": "code",
      "metadata": {
        "id": "JeNa5v_dzCZC",
        "colab_type": "code",
        "outputId": "9ac3064a-4b30-463b-c741-4328c8e59781",
        "colab": {
          "base_uri": "https://localhost:8080/",
          "height": 51
        }
      },
      "source": [
        "print(train['BookCategory'].unique())\n",
        "print(test['BookCategory'].unique())"
      ],
      "execution_count": 0,
      "outputs": [
        {
          "output_type": "stream",
          "text": [
            "[ 0.  2.  6.  5.  1. 10.  7.  4.  9.  3.  8.]\n",
            "[ 5.  4.  9.  7.  1.  8.  0.  6. 10.  2.  3.]\n"
          ],
          "name": "stdout"
        }
      ]
    },
    {
      "cell_type": "code",
      "metadata": {
        "id": "dtZUxDCX0QB2",
        "colab_type": "code",
        "outputId": "1fdce854-9a9a-49f7-9edf-f0c470d4425a",
        "colab": {
          "base_uri": "https://localhost:8080/",
          "height": 289
        }
      },
      "source": [
        "test.head()"
      ],
      "execution_count": 0,
      "outputs": [
        {
          "output_type": "execute_result",
          "data": {
            "text/html": [
              "<div>\n",
              "<style scoped>\n",
              "    .dataframe tbody tr th:only-of-type {\n",
              "        vertical-align: middle;\n",
              "    }\n",
              "\n",
              "    .dataframe tbody tr th {\n",
              "        vertical-align: top;\n",
              "    }\n",
              "\n",
              "    .dataframe thead th {\n",
              "        text-align: right;\n",
              "    }\n",
              "</style>\n",
              "<table border=\"1\" class=\"dataframe\">\n",
              "  <thead>\n",
              "    <tr style=\"text-align: right;\">\n",
              "      <th></th>\n",
              "      <th>Title</th>\n",
              "      <th>Author</th>\n",
              "      <th>Edition</th>\n",
              "      <th>Ratings</th>\n",
              "      <th>Reviews</th>\n",
              "      <th>Synopsis</th>\n",
              "      <th>Genre</th>\n",
              "      <th>BookCategory</th>\n",
              "      <th>Edition_Date</th>\n",
              "      <th>Released_year</th>\n",
              "      <th>Book_Age</th>\n",
              "    </tr>\n",
              "  </thead>\n",
              "  <tbody>\n",
              "    <tr>\n",
              "      <th>0</th>\n",
              "      <td>The Complete Sherlock Holmes: 2 Boxes sets</td>\n",
              "      <td>Sir Arthur Conan Doyle</td>\n",
              "      <td>2.0</td>\n",
              "      <td>4.4</td>\n",
              "      <td>960.0</td>\n",
              "      <td>A collection of entire body of work of the She...</td>\n",
              "      <td>189.0</td>\n",
              "      <td>5.0</td>\n",
              "      <td>1 Oct 1986</td>\n",
              "      <td>1986</td>\n",
              "      <td>33</td>\n",
              "    </tr>\n",
              "    <tr>\n",
              "      <th>1</th>\n",
              "      <td>Learn Docker - Fundamentals of Docker 18.x: Ev...</td>\n",
              "      <td>Gabriel N. Schenker</td>\n",
              "      <td>4.0</td>\n",
              "      <td>5.0</td>\n",
              "      <td>1.0</td>\n",
              "      <td>Enhance your software deployment workflow usin...</td>\n",
              "      <td>163.0</td>\n",
              "      <td>4.0</td>\n",
              "      <td>Import, 26 Apr 2018</td>\n",
              "      <td>2018</td>\n",
              "      <td>1</td>\n",
              "    </tr>\n",
              "    <tr>\n",
              "      <th>2</th>\n",
              "      <td>Big Girl</td>\n",
              "      <td>Danielle Steel</td>\n",
              "      <td>4.0</td>\n",
              "      <td>5.0</td>\n",
              "      <td>4.0</td>\n",
              "      <td>'Watch out, world. Here I come!'\\nFor Victoria...</td>\n",
              "      <td>185.0</td>\n",
              "      <td>9.0</td>\n",
              "      <td>17 Mar 2011</td>\n",
              "      <td>2011</td>\n",
              "      <td>8</td>\n",
              "    </tr>\n",
              "    <tr>\n",
              "      <th>3</th>\n",
              "      <td>Think Python: How to Think Like a Computer Sci...</td>\n",
              "      <td>Allen B. Downey</td>\n",
              "      <td>4.0</td>\n",
              "      <td>4.1</td>\n",
              "      <td>11.0</td>\n",
              "      <td>If you want to learn how to program, working w...</td>\n",
              "      <td>174.0</td>\n",
              "      <td>4.0</td>\n",
              "      <td>2016</td>\n",
              "      <td>2016</td>\n",
              "      <td>3</td>\n",
              "    </tr>\n",
              "    <tr>\n",
              "      <th>4</th>\n",
              "      <td>Oxford Word Skills: Advanced - Idioms &amp; Phrasa...</td>\n",
              "      <td>Redman Gairns</td>\n",
              "      <td>4.0</td>\n",
              "      <td>4.4</td>\n",
              "      <td>9.0</td>\n",
              "      <td>Learn and practise the verbs, prepositions and...</td>\n",
              "      <td>143.0</td>\n",
              "      <td>7.0</td>\n",
              "      <td>26 Dec 2011</td>\n",
              "      <td>2011</td>\n",
              "      <td>8</td>\n",
              "    </tr>\n",
              "  </tbody>\n",
              "</table>\n",
              "</div>"
            ],
            "text/plain": [
              "                                               Title  ... Book_Age\n",
              "0         The Complete Sherlock Holmes: 2 Boxes sets  ...       33\n",
              "1  Learn Docker - Fundamentals of Docker 18.x: Ev...  ...        1\n",
              "2                                           Big Girl  ...        8\n",
              "3  Think Python: How to Think Like a Computer Sci...  ...        3\n",
              "4  Oxford Word Skills: Advanced - Idioms & Phrasa...  ...        8\n",
              "\n",
              "[5 rows x 11 columns]"
            ]
          },
          "metadata": {
            "tags": []
          },
          "execution_count": 275
        }
      ]
    },
    {
      "cell_type": "code",
      "metadata": {
        "id": "UTCYaE880R1a",
        "colab_type": "code",
        "outputId": "2ede4d27-d6b1-4fb9-a0c1-1afb943fe780",
        "colab": {
          "base_uri": "https://localhost:8080/",
          "height": 51
        }
      },
      "source": [
        "train['Author'].unique()"
      ],
      "execution_count": 0,
      "outputs": [
        {
          "output_type": "execute_result",
          "data": {
            "text/plain": [
              "array(['Chris Kuzneski', 'Arun Khopkar', 'Thomas Hobbes', ...,\n",
              "       'Saba Naqvi', 'Tom Phillips', 'Stephenie Meyer'], dtype=object)"
            ]
          },
          "metadata": {
            "tags": []
          },
          "execution_count": 276
        }
      ]
    },
    {
      "cell_type": "code",
      "metadata": {
        "id": "RGbB3QEM1fAh",
        "colab_type": "code",
        "outputId": "2ef1e10e-f93d-414f-c472-e322c3cc104c",
        "colab": {
          "base_uri": "https://localhost:8080/",
          "height": 68
        }
      },
      "source": [
        "test['Author'].unique()"
      ],
      "execution_count": 0,
      "outputs": [
        {
          "output_type": "execute_result",
          "data": {
            "text/plain": [
              "array(['Sir Arthur Conan Doyle', 'Gabriel N. Schenker', 'Danielle Steel',\n",
              "       ..., 'ARUN SAGAR', 'Khaled Hosseini', 'Heinz Guderian'],\n",
              "      dtype=object)"
            ]
          },
          "metadata": {
            "tags": []
          },
          "execution_count": 277
        }
      ]
    },
    {
      "cell_type": "code",
      "metadata": {
        "id": "wbmO2bVL1avG",
        "colab_type": "code",
        "colab": {}
      },
      "source": [
        "#Feature Selection\n",
        "train = train[[ 'Edition', 'Reviews', 'Ratings','Genre',\n",
        "               'BookCategory', 'Released_year',\t'Book_Age','Price']]\n",
        "\n",
        "test = test[['Edition', 'Reviews', 'Ratings','Genre',\n",
        "               'BookCategory','Released_year','Book_Age']]"
      ],
      "execution_count": 0,
      "outputs": []
    },
    {
      "cell_type": "code",
      "metadata": {
        "id": "r_wLIfk9CJPj",
        "colab_type": "code",
        "outputId": "60ff0973-68a1-43a7-e021-f2d2f10e9301",
        "colab": {
          "base_uri": "https://localhost:8080/",
          "height": 204
        }
      },
      "source": [
        "train.head()"
      ],
      "execution_count": 0,
      "outputs": [
        {
          "output_type": "execute_result",
          "data": {
            "text/html": [
              "<div>\n",
              "<style scoped>\n",
              "    .dataframe tbody tr th:only-of-type {\n",
              "        vertical-align: middle;\n",
              "    }\n",
              "\n",
              "    .dataframe tbody tr th {\n",
              "        vertical-align: top;\n",
              "    }\n",
              "\n",
              "    .dataframe thead th {\n",
              "        text-align: right;\n",
              "    }\n",
              "</style>\n",
              "<table border=\"1\" class=\"dataframe\">\n",
              "  <thead>\n",
              "    <tr style=\"text-align: right;\">\n",
              "      <th></th>\n",
              "      <th>Edition</th>\n",
              "      <th>Reviews</th>\n",
              "      <th>Ratings</th>\n",
              "      <th>Genre</th>\n",
              "      <th>BookCategory</th>\n",
              "      <th>Released_year</th>\n",
              "      <th>Book_Age</th>\n",
              "      <th>Price</th>\n",
              "    </tr>\n",
              "  </thead>\n",
              "  <tbody>\n",
              "    <tr>\n",
              "      <th>0</th>\n",
              "      <td>4.0</td>\n",
              "      <td>8.0</td>\n",
              "      <td>4.0</td>\n",
              "      <td>1.0</td>\n",
              "      <td>0.0</td>\n",
              "      <td>2016</td>\n",
              "      <td>3</td>\n",
              "      <td>220.00</td>\n",
              "    </tr>\n",
              "    <tr>\n",
              "      <th>1</th>\n",
              "      <td>4.0</td>\n",
              "      <td>14.0</td>\n",
              "      <td>3.9</td>\n",
              "      <td>74.0</td>\n",
              "      <td>2.0</td>\n",
              "      <td>2012</td>\n",
              "      <td>7</td>\n",
              "      <td>202.93</td>\n",
              "    </tr>\n",
              "    <tr>\n",
              "      <th>2</th>\n",
              "      <td>4.0</td>\n",
              "      <td>6.0</td>\n",
              "      <td>4.8</td>\n",
              "      <td>193.0</td>\n",
              "      <td>6.0</td>\n",
              "      <td>1982</td>\n",
              "      <td>37</td>\n",
              "      <td>299.00</td>\n",
              "    </tr>\n",
              "    <tr>\n",
              "      <th>3</th>\n",
              "      <td>4.0</td>\n",
              "      <td>13.0</td>\n",
              "      <td>4.1</td>\n",
              "      <td>92.0</td>\n",
              "      <td>5.0</td>\n",
              "      <td>2017</td>\n",
              "      <td>2</td>\n",
              "      <td>180.00</td>\n",
              "    </tr>\n",
              "    <tr>\n",
              "      <th>4</th>\n",
              "      <td>1.0</td>\n",
              "      <td>1.0</td>\n",
              "      <td>5.0</td>\n",
              "      <td>253.0</td>\n",
              "      <td>1.0</td>\n",
              "      <td>2006</td>\n",
              "      <td>13</td>\n",
              "      <td>965.62</td>\n",
              "    </tr>\n",
              "  </tbody>\n",
              "</table>\n",
              "</div>"
            ],
            "text/plain": [
              "   Edition  Reviews  Ratings  ...  Released_year  Book_Age   Price\n",
              "0      4.0      8.0      4.0  ...           2016         3  220.00\n",
              "1      4.0     14.0      3.9  ...           2012         7  202.93\n",
              "2      4.0      6.0      4.8  ...           1982        37  299.00\n",
              "3      4.0     13.0      4.1  ...           2017         2  180.00\n",
              "4      1.0      1.0      5.0  ...           2006        13  965.62\n",
              "\n",
              "[5 rows x 8 columns]"
            ]
          },
          "metadata": {
            "tags": []
          },
          "execution_count": 279
        }
      ]
    },
    {
      "cell_type": "code",
      "metadata": {
        "id": "S0FiZewFCQAQ",
        "colab_type": "code",
        "outputId": "17ceb045-bcfb-4d9e-d205-c260569aadf4",
        "colab": {
          "base_uri": "https://localhost:8080/",
          "height": 204
        }
      },
      "source": [
        "test.head()"
      ],
      "execution_count": 0,
      "outputs": [
        {
          "output_type": "execute_result",
          "data": {
            "text/html": [
              "<div>\n",
              "<style scoped>\n",
              "    .dataframe tbody tr th:only-of-type {\n",
              "        vertical-align: middle;\n",
              "    }\n",
              "\n",
              "    .dataframe tbody tr th {\n",
              "        vertical-align: top;\n",
              "    }\n",
              "\n",
              "    .dataframe thead th {\n",
              "        text-align: right;\n",
              "    }\n",
              "</style>\n",
              "<table border=\"1\" class=\"dataframe\">\n",
              "  <thead>\n",
              "    <tr style=\"text-align: right;\">\n",
              "      <th></th>\n",
              "      <th>Edition</th>\n",
              "      <th>Reviews</th>\n",
              "      <th>Ratings</th>\n",
              "      <th>Genre</th>\n",
              "      <th>BookCategory</th>\n",
              "      <th>Released_year</th>\n",
              "      <th>Book_Age</th>\n",
              "    </tr>\n",
              "  </thead>\n",
              "  <tbody>\n",
              "    <tr>\n",
              "      <th>0</th>\n",
              "      <td>2.0</td>\n",
              "      <td>960.0</td>\n",
              "      <td>4.4</td>\n",
              "      <td>189.0</td>\n",
              "      <td>5.0</td>\n",
              "      <td>1986</td>\n",
              "      <td>33</td>\n",
              "    </tr>\n",
              "    <tr>\n",
              "      <th>1</th>\n",
              "      <td>4.0</td>\n",
              "      <td>1.0</td>\n",
              "      <td>5.0</td>\n",
              "      <td>163.0</td>\n",
              "      <td>4.0</td>\n",
              "      <td>2018</td>\n",
              "      <td>1</td>\n",
              "    </tr>\n",
              "    <tr>\n",
              "      <th>2</th>\n",
              "      <td>4.0</td>\n",
              "      <td>4.0</td>\n",
              "      <td>5.0</td>\n",
              "      <td>185.0</td>\n",
              "      <td>9.0</td>\n",
              "      <td>2011</td>\n",
              "      <td>8</td>\n",
              "    </tr>\n",
              "    <tr>\n",
              "      <th>3</th>\n",
              "      <td>4.0</td>\n",
              "      <td>11.0</td>\n",
              "      <td>4.1</td>\n",
              "      <td>174.0</td>\n",
              "      <td>4.0</td>\n",
              "      <td>2016</td>\n",
              "      <td>3</td>\n",
              "    </tr>\n",
              "    <tr>\n",
              "      <th>4</th>\n",
              "      <td>4.0</td>\n",
              "      <td>9.0</td>\n",
              "      <td>4.4</td>\n",
              "      <td>143.0</td>\n",
              "      <td>7.0</td>\n",
              "      <td>2011</td>\n",
              "      <td>8</td>\n",
              "    </tr>\n",
              "  </tbody>\n",
              "</table>\n",
              "</div>"
            ],
            "text/plain": [
              "   Edition  Reviews  Ratings  Genre  BookCategory  Released_year  Book_Age\n",
              "0      2.0    960.0      4.4  189.0           5.0           1986        33\n",
              "1      4.0      1.0      5.0  163.0           4.0           2018         1\n",
              "2      4.0      4.0      5.0  185.0           9.0           2011         8\n",
              "3      4.0     11.0      4.1  174.0           4.0           2016         3\n",
              "4      4.0      9.0      4.4  143.0           7.0           2011         8"
            ]
          },
          "metadata": {
            "tags": []
          },
          "execution_count": 280
        }
      ]
    },
    {
      "cell_type": "code",
      "metadata": {
        "id": "JPNMliPb2f3P",
        "colab_type": "code",
        "colab": {}
      },
      "source": [
        "X = train.drop('Price',axis=1)\n",
        "y = train['Price']"
      ],
      "execution_count": 0,
      "outputs": []
    },
    {
      "cell_type": "code",
      "metadata": {
        "id": "AAoR8V1p5ue9",
        "colab_type": "code",
        "colab": {}
      },
      "source": [
        "from sklearn.model_selection import train_test_split\n",
        "X_train, X_test, y_train, y_test= train_test_split(X, y, test_size = 0.1)"
      ],
      "execution_count": 0,
      "outputs": []
    },
    {
      "cell_type": "code",
      "metadata": {
        "id": "1d1QOdRCE04Z",
        "colab_type": "code",
        "colab": {}
      },
      "source": [
        "from sklearn.preprocessing import StandardScaler\n",
        "sc = StandardScaler()"
      ],
      "execution_count": 0,
      "outputs": []
    },
    {
      "cell_type": "code",
      "metadata": {
        "id": "I4rvY9Bp5_l_",
        "colab_type": "code",
        "outputId": "53a0ede8-0111-46f3-a902-d5b68daa8fd9",
        "colab": {
          "base_uri": "https://localhost:8080/",
          "height": 187
        }
      },
      "source": [
        "from xgboost import XGBRegressor\n",
        "xgb=XGBRegressor()\n",
        "xgb.fit(X_train,y_train)"
      ],
      "execution_count": 0,
      "outputs": [
        {
          "output_type": "stream",
          "text": [
            "[03:00:50] WARNING: /workspace/src/objective/regression_obj.cu:152: reg:linear is now deprecated in favor of reg:squarederror.\n"
          ],
          "name": "stdout"
        },
        {
          "output_type": "stream",
          "text": [
            "/usr/local/lib/python3.6/dist-packages/xgboost/core.py:587: FutureWarning: Series.base is deprecated and will be removed in a future version\n",
            "  if getattr(data, 'base', None) is not None and \\\n"
          ],
          "name": "stderr"
        },
        {
          "output_type": "execute_result",
          "data": {
            "text/plain": [
              "XGBRegressor(base_score=0.5, booster='gbtree', colsample_bylevel=1,\n",
              "             colsample_bynode=1, colsample_bytree=1, gamma=0,\n",
              "             importance_type='gain', learning_rate=0.1, max_delta_step=0,\n",
              "             max_depth=3, min_child_weight=1, missing=None, n_estimators=100,\n",
              "             n_jobs=1, nthread=None, objective='reg:linear', random_state=0,\n",
              "             reg_alpha=0, reg_lambda=1, scale_pos_weight=1, seed=None,\n",
              "             silent=None, subsample=1, verbosity=1)"
            ]
          },
          "metadata": {
            "tags": []
          },
          "execution_count": 284
        }
      ]
    },
    {
      "cell_type": "code",
      "metadata": {
        "id": "3ak4GDuZ6YiP",
        "colab_type": "code",
        "colab": {}
      },
      "source": [
        "y_pred_xgb =xgb.predict(X_test)"
      ],
      "execution_count": 0,
      "outputs": []
    },
    {
      "cell_type": "code",
      "metadata": {
        "id": "4edfkcVg6kkF",
        "colab_type": "code",
        "outputId": "5aebf5be-17d3-4010-e188-fb705d474aa7",
        "colab": {
          "base_uri": "https://localhost:8080/",
          "height": 1000
        }
      },
      "source": [
        "y_pred_xgb"
      ],
      "execution_count": 0,
      "outputs": [
        {
          "output_type": "execute_result",
          "data": {
            "text/plain": [
              "array([ 419.5885 ,  733.2829 ,  718.1612 ,  527.2784 ,  402.66644,\n",
              "        443.36984,  414.9382 ,  383.79538,  482.4677 ,  243.74919,\n",
              "        515.4904 ,  914.2876 ,  385.87726,  522.0911 ,  819.4143 ,\n",
              "        962.02856,  648.3364 , 1546.033  ,  384.55087,  232.61522,\n",
              "        562.2726 ,  456.9415 ,  590.8856 ,  653.20874,  276.81052,\n",
              "        934.35004,  813.583  , 1123.3342 ,  290.37497,  393.7793 ,\n",
              "        382.36282,  464.10873,  733.46716,  411.04138,  234.45805,\n",
              "        278.706  , 1577.3558 ,  283.02872,  791.0893 ,  297.98608,\n",
              "        686.48596,  325.87924,  340.42664,  331.02472, 1571.0355 ,\n",
              "        855.27106,  592.2219 ,  287.4112 ,  350.86768,  712.76434,\n",
              "        340.43195,  673.28394,  384.30807,  855.7891 ,  643.96564,\n",
              "        567.24854,  764.06195, 1079.9044 , 1586.9185 ,  581.94855,\n",
              "        348.15137, 1606.0431 ,  757.82153,  585.1665 ,  473.44388,\n",
              "        880.16327,  526.767  ,  659.5264 ,  586.14954,  370.35684,\n",
              "       1158.4985 , 1968.7955 ,  380.60486,  796.79785,  369.2763 ,\n",
              "        256.5139 ,  320.02768,  279.74792,  294.64435, 1225.725  ,\n",
              "        589.42316,  529.29926,  494.15182,  296.86075,  412.61185,\n",
              "        478.59357,  487.54974,  374.8841 ,  412.19766,  386.44125,\n",
              "        328.29077,  374.84558,  688.4083 ,  597.6289 ,  515.4679 ,\n",
              "        296.26538,  432.0163 ,  836.0083 ,  564.6334 ,  275.6443 ,\n",
              "        370.35684,  634.7793 ,  855.6823 ,  619.77484,  443.20117,\n",
              "        590.99365,  493.74063,  359.69174,  351.55084,  574.7241 ,\n",
              "        298.16324,  725.44824,  787.9329 ,  332.74023,  257.91837,\n",
              "        513.59076,  779.13104,  750.02374,  224.24295,  638.8286 ,\n",
              "        467.84683,  323.13568,  905.5555 ,  263.9654 ,  384.55087,\n",
              "        515.51624,  563.03577,  636.7919 ,  282.97958,  298.2505 ,\n",
              "        378.91333,  371.09238, 1987.3217 ,  300.2386 ,  335.3087 ,\n",
              "        344.37112,  370.48474,  362.75354,  329.97354,  509.84006,\n",
              "        514.08936,  556.10913,  306.92874,  235.49742,  351.63257,\n",
              "        324.0335 ,  350.52695,  385.9436 ,  469.46808,  278.33923,\n",
              "        663.28534, 1060.5167 ,  673.28394,  378.68118,  321.39035,\n",
              "        645.15717,  268.45636,  630.7861 ,  362.27097,  633.7732 ,\n",
              "        557.8089 ,  287.4112 ,  271.6393 ,  485.09674,  860.06854,\n",
              "        469.6193 ,  306.92374,  315.07294,  704.85315,  390.99936,\n",
              "        798.2066 ,  499.37875,  209.73286,  487.97723,  399.44464,\n",
              "       2010.8154 ,  388.68527,  237.32947,  459.40176, 1614.1055 ,\n",
              "        832.8797 ,  453.837  ,  342.44656,  449.48215,  430.96985,\n",
              "        421.53067,  394.07257,  292.95102,  919.3359 ,  688.7454 ,\n",
              "        293.0012 ,  576.8123 ,  245.7864 ,  241.41435,  704.7702 ,\n",
              "        436.69186,  682.7532 ,  880.16327,  340.83188,  234.68585,\n",
              "        220.24487,  314.46863,  393.52844,  636.0263 , 1802.9153 ,\n",
              "        367.98904,  330.7702 ,  318.27884,  660.70935,  434.91446,\n",
              "       1006.1345 ,  766.8233 , 1636.8114 ,  590.72003,  517.76874,\n",
              "        464.871  ,  379.5251 ,  828.5545 ,  425.71033,  747.7092 ,\n",
              "        495.27277,  300.2024 ,  757.0327 ,  783.5926 ,  254.43909,\n",
              "        576.4261 ,  336.4623 ,  814.5028 ,  323.27515,  331.81595,\n",
              "        678.1448 ,  566.0905 ,  813.49725,  419.80112,  469.89648,\n",
              "        463.52277,  413.124  ,  480.60934,  369.39603,  895.8409 ,\n",
              "        526.9198 ,  858.0424 ,  767.4296 ,  315.9477 ,  394.96106,\n",
              "        729.87317,  369.8935 ,  290.56082,  762.487  ,  543.9206 ,\n",
              "        827.34894,  429.039  ,  603.7113 ,  488.0824 ,  736.5291 ,\n",
              "        276.44406,  538.0964 ,  743.46686,  260.4621 ,  783.95795,\n",
              "        715.6888 ,  554.1681 ,  391.2749 , 1226.4161 ,  354.25644,\n",
              "        377.77222,  338.81232,  196.2507 ,  585.5246 ,  894.2413 ,\n",
              "        634.7793 ,  212.54031,  779.19214,  278.2881 ,  364.68973,\n",
              "        542.56274,  330.25165,  426.3498 ,  429.93204,  268.89505,\n",
              "        460.68597,  504.76108,  353.77032,  428.34985,  288.96167,\n",
              "        371.14783,  459.54193,  258.5659 ,  339.30548,  354.5375 ,\n",
              "        471.34314,  503.91312,  486.74902,  350.76627,  901.05835,\n",
              "        355.60062,  348.3305 ,  688.4083 ,  444.97012,  551.03033,\n",
              "        315.07294,  477.537  ,  908.3015 ,  251.30629, 1053.5757 ,\n",
              "        577.4459 , 1008.36475,  401.2118 ,  440.94778,  248.40874,\n",
              "        282.15225,  954.10376,  479.44138,  701.72144,  624.23584,\n",
              "        292.2765 ,  797.9768 ,  411.25345,  371.35086,  369.8935 ,\n",
              "        256.5139 ,  401.7749 ,  384.19254,  336.5291 ,  365.4375 ,\n",
              "        680.22015,  600.59344,  788.94257,  895.6083 ,  326.7059 ,\n",
              "        821.71765,  759.7167 ,  385.79086,  362.72186,  398.95166,\n",
              "       1574.3889 ,  415.7794 ,  364.08133,  868.7121 ,  288.95834,\n",
              "        381.93573,  843.37146,  668.898  , 1128.6648 ,  941.8546 ,\n",
              "        948.1493 ,  429.2034 ,  394.60233,  355.86874,  431.68292,\n",
              "        356.0804 ,  843.2622 ,  347.49448,  457.18802,  676.44946,\n",
              "        352.46823,  834.5183 ,  421.15924,  566.2097 ,  392.291  ,\n",
              "        390.85434,  338.9402 ,  444.85342,  437.29932,  340.9855 ,\n",
              "        526.2885 ,  283.1322 ,  277.15457,  304.04025,  502.7742 ,\n",
              "        753.6542 ,  868.9226 ,  618.24054,  324.77362,  266.7887 ,\n",
              "        463.86215,  250.0779 ,  591.71326,  712.76434,  755.1364 ,\n",
              "        213.0446 ,  306.99167,  328.29077,  534.74554,  668.1109 ,\n",
              "        705.938  ,  734.09796,  379.90466,  304.92694,  808.36646,\n",
              "        738.3893 ,  634.60876,  898.8219 ,  908.9419 ,  321.9641 ,\n",
              "        823.05554,  339.94153,  620.7569 ,  589.2888 ,  546.54956,\n",
              "        683.8507 ,  624.22186,  268.36447,  378.68118,  379.70612,\n",
              "       1058.2749 ,  409.65094,  816.9281 ,  926.92487, 1216.9705 ,\n",
              "        257.68536,  617.67224,  376.5357 ,  308.57437,  371.8798 ,\n",
              "        384.55087,  638.9404 ,  464.3105 ,  272.03262,  520.10974,\n",
              "        353.15356,  318.489  ,  319.09717,  650.69385, 1416.7126 ,\n",
              "        513.81067,  747.08325,  437.67392,  560.8055 ,  310.699  ,\n",
              "        647.17694,  503.8259 , 1069.7444 ,  838.90424,  417.47696,\n",
              "        278.08655,  275.92245,  320.2689 ,  660.4511 ,  527.16675,\n",
              "        492.69742,  431.502  ,  679.9504 ,  237.38559,  519.2953 ,\n",
              "       1030.3248 ,  902.0499 ,  327.71567,  228.8671 ,  294.11478,\n",
              "        450.06345,  369.8935 ,  541.61523,  398.98254,  694.09015,\n",
              "        686.8089 ,  359.7791 ,  475.6775 ,  762.487  ,  160.48476,\n",
              "        966.79346,  413.4962 ,  324.20117,  494.59158,  502.82474,\n",
              "        883.9897 , 1075.2979 ,  783.62024,  517.91705,  327.34573,\n",
              "        747.08325,  311.1883 ,  422.1435 ,  362.95453,  333.8124 ,\n",
              "        824.117  ,  497.66412,  754.9342 ,  350.79373,  508.683  ,\n",
              "        508.683  ,  641.3901 ,  274.53006,  567.5089 ,  831.6662 ,\n",
              "        422.38977,  749.12555,  434.72763,  412.80417,  264.92606,\n",
              "        682.7532 ,  898.8219 ,  778.5252 ,  673.74036,  588.88617,\n",
              "        503.8713 , 1060.8966 ,  260.52365,  537.95825,  297.3325 ,\n",
              "        436.93564,  861.8293 ,  372.2633 ,  294.81268,  654.6512 ,\n",
              "        714.98724,  433.58414,  312.06613,  784.91364,  834.3025 ,\n",
              "        650.5398 ,  482.66577,  467.84683,  763.176  ,  375.09756,\n",
              "        349.69183, 1342.3657 ,  224.20203, 1123.3342 ,  617.8245 ,\n",
              "        545.29663,  587.25836,  781.9293 ,  406.1487 , 1199.4039 ,\n",
              "        670.234  ,  303.2352 ,  287.525  ,  254.15155, 1133.0328 ,\n",
              "        338.82748,  494.21695,  314.67538,  159.37314,  597.1777 ,\n",
              "        371.21686,  587.25836, 1215.4952 ,  229.48607,  499.19553,\n",
              "        634.3013 ,  922.3035 ,  442.9162 ,  876.02527,  515.1489 ,\n",
              "        462.7595 ,  641.3901 ,  312.15814,  271.74155,  630.11383,\n",
              "        479.27225,  363.89697,  468.98004,  828.709  ,  691.0178 ,\n",
              "        440.94778,  414.24475,  712.3475 ,  586.88055, 1150.4574 ,\n",
              "        712.4448 ,  362.75732,  843.9559 ,  447.16763,  428.03638,\n",
              "        369.8935 ,  409.85638,  391.6895 ,  353.72794,  750.02374,\n",
              "        649.6244 , 1058.697  ,  279.51642,  564.7449 ,  283.70038,\n",
              "        618.07135,  369.52386,  357.55392,  675.1144 ,  325.46802,\n",
              "       1576.9491 ,  324.22025, 1013.20636,  687.23376,  386.3866 ,\n",
              "        676.6849 ,  183.16539,  621.0455 ,  757.0327 ,  331.81595,\n",
              "        212.54031,  345.88797,  300.70834,  537.1943 ,  447.81625,\n",
              "       1311.9133 ,  283.02872,  453.837  ,  251.65524,  408.6046 ,\n",
              "        327.68613,  377.38153,  714.8675 ,  462.42188,  771.05054,\n",
              "        229.74435,  647.58105,  599.2513 ,  674.2513 ,  551.92224,\n",
              "        650.2152 ,  489.84875,  502.18396,  416.65753,  764.8769 ,\n",
              "        644.8918 ,  687.5553 ,  677.6018 ,  667.7016 ,  631.40076,\n",
              "        239.43466,  245.38377,  272.03262,  312.0549 ], dtype=float32)"
            ]
          },
          "metadata": {
            "tags": []
          },
          "execution_count": 286
        }
      ]
    },
    {
      "cell_type": "code",
      "metadata": {
        "id": "0Xc52tX16tCL",
        "colab_type": "code",
        "colab": {}
      },
      "source": [
        "solution = pd.DataFrame(y_pred_xgb, columns = ['Price'])\n",
        "solution.to_excel('Predict_Book_Price_Soln.xlsx', index = False)"
      ],
      "execution_count": 0,
      "outputs": []
    },
    {
      "cell_type": "code",
      "metadata": {
        "id": "Jh4onjmY7CwB",
        "colab_type": "code",
        "outputId": "c15a2b13-26e3-40d1-91b1-a6b2e5cc00c6",
        "colab": {
          "base_uri": "https://localhost:8080/",
          "height": 419
        }
      },
      "source": [
        "solution"
      ],
      "execution_count": 0,
      "outputs": [
        {
          "output_type": "execute_result",
          "data": {
            "text/html": [
              "<div>\n",
              "<style scoped>\n",
              "    .dataframe tbody tr th:only-of-type {\n",
              "        vertical-align: middle;\n",
              "    }\n",
              "\n",
              "    .dataframe tbody tr th {\n",
              "        vertical-align: top;\n",
              "    }\n",
              "\n",
              "    .dataframe thead th {\n",
              "        text-align: right;\n",
              "    }\n",
              "</style>\n",
              "<table border=\"1\" class=\"dataframe\">\n",
              "  <thead>\n",
              "    <tr style=\"text-align: right;\">\n",
              "      <th></th>\n",
              "      <th>Price</th>\n",
              "    </tr>\n",
              "  </thead>\n",
              "  <tbody>\n",
              "    <tr>\n",
              "      <th>0</th>\n",
              "      <td>419.588501</td>\n",
              "    </tr>\n",
              "    <tr>\n",
              "      <th>1</th>\n",
              "      <td>733.282898</td>\n",
              "    </tr>\n",
              "    <tr>\n",
              "      <th>2</th>\n",
              "      <td>718.161194</td>\n",
              "    </tr>\n",
              "    <tr>\n",
              "      <th>3</th>\n",
              "      <td>527.278381</td>\n",
              "    </tr>\n",
              "    <tr>\n",
              "      <th>4</th>\n",
              "      <td>402.666443</td>\n",
              "    </tr>\n",
              "    <tr>\n",
              "      <th>...</th>\n",
              "      <td>...</td>\n",
              "    </tr>\n",
              "    <tr>\n",
              "      <th>619</th>\n",
              "      <td>631.400757</td>\n",
              "    </tr>\n",
              "    <tr>\n",
              "      <th>620</th>\n",
              "      <td>239.434662</td>\n",
              "    </tr>\n",
              "    <tr>\n",
              "      <th>621</th>\n",
              "      <td>245.383774</td>\n",
              "    </tr>\n",
              "    <tr>\n",
              "      <th>622</th>\n",
              "      <td>272.032623</td>\n",
              "    </tr>\n",
              "    <tr>\n",
              "      <th>623</th>\n",
              "      <td>312.054901</td>\n",
              "    </tr>\n",
              "  </tbody>\n",
              "</table>\n",
              "<p>624 rows × 1 columns</p>\n",
              "</div>"
            ],
            "text/plain": [
              "          Price\n",
              "0    419.588501\n",
              "1    733.282898\n",
              "2    718.161194\n",
              "3    527.278381\n",
              "4    402.666443\n",
              "..          ...\n",
              "619  631.400757\n",
              "620  239.434662\n",
              "621  245.383774\n",
              "622  272.032623\n",
              "623  312.054901\n",
              "\n",
              "[624 rows x 1 columns]"
            ]
          },
          "metadata": {
            "tags": []
          },
          "execution_count": 288
        }
      ]
    },
    {
      "cell_type": "code",
      "metadata": {
        "id": "1Abqw62I7Hfg",
        "colab_type": "code",
        "colab": {}
      },
      "source": [
        ""
      ],
      "execution_count": 0,
      "outputs": []
    }
  ]
}